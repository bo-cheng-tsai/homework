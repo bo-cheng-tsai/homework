{
  "nbformat": 4,
  "nbformat_minor": 0,
  "metadata": {
    "colab": {
      "provenance": [],
      "authorship_tag": "ABX9TyMpAPQbb3Z2rL4BMW9xm+AU",
      "include_colab_link": true
    },
    "kernelspec": {
      "name": "python3",
      "display_name": "Python 3"
    },
    "language_info": {
      "name": "python"
    }
  },
  "cells": [
    {
      "cell_type": "markdown",
      "metadata": {
        "id": "view-in-github",
        "colab_type": "text"
      },
      "source": [
        "<a href=\"https://colab.research.google.com/github/bo-cheng-tsai/homework/blob/main/week13.ipynb\" target=\"_parent\"><img src=\"https://colab.research.google.com/assets/colab-badge.svg\" alt=\"Open In Colab\"/></a>"
      ]
    },
    {
      "cell_type": "code",
      "execution_count": 36,
      "metadata": {
        "id": "trdjdkIwQmNT"
      },
      "outputs": [],
      "source": [
        "import numpy as np\n",
        "import pandas as pd\n",
        "import yfinance as yf"
      ]
    },
    {
      "cell_type": "code",
      "source": [
        "import yfinance as yf\n",
        "tickers = [\"2330.TW\", \"0050.TW\", \"2891.TW\", \"2303.TW\", \"2344.TW\"]  # 替換為您選擇的股票\n",
        "start_date = \"2020-01-01\"\n",
        "end_date = \"2023-01-01\"\n",
        "\n",
        "# 獲取多支股票的數據\n",
        "stock_data = yf.download(tickers, start=start_date, end=end_date)[\"Adj Close\"]\n",
        "stock_data.dropna(inplace=True)  # 刪除缺失值\n",
        "\n",
        "# 計算日回報率\n",
        "data = stock_data.pct_change().dropna()"
      ],
      "metadata": {
        "colab": {
          "base_uri": "https://localhost:8080/"
        },
        "id": "h1biSTYkY3fg",
        "outputId": "3d67a339-1bdb-4537-cf2a-029fd4950298"
      },
      "execution_count": 44,
      "outputs": [
        {
          "output_type": "stream",
          "name": "stderr",
          "text": [
            "[*********************100%***********************]  5 of 5 completed\n"
          ]
        }
      ]
    },
    {
      "cell_type": "code",
      "source": [
        "# GA 參數設置\n",
        "population_size = 20  # 族群大小\n",
        "num_generations = 100  # 迭代次數\n",
        "mutation_rate = 0.1  # 突變概率\n",
        "risk_free_rate = 0.02  # 無風險收益率"
      ],
      "metadata": {
        "id": "rbzDUnkaYz75"
      },
      "execution_count": 45,
      "outputs": []
    },
    {
      "cell_type": "code",
      "source": [
        "# 定義適應函數\n",
        "def fitness_function(weights, mean_returns, cov_matrix, risk_free_rate=0.02):\n",
        "    portfolio_return = np.dot(weights, mean_returns)\n",
        "    portfolio_std = np.sqrt(np.dot(weights.T, np.dot(cov_matrix, weights)))\n",
        "    sharpe_ratio = (portfolio_return - risk_free_rate) / portfolio_std if portfolio_std > 0 else 0\n",
        "    return sharpe_ratio\n",
        "\n",
        "# 評估整個族群\n",
        "def evaluate_population(population, mean_returns, cov_matrix):\n",
        "    fitness_scores = []\n",
        "    for individual in population:\n",
        "        weights = individual / np.sum(individual) if np.sum(individual) > 0 else np.zeros_like(individual)\n",
        "        fitness_scores.append(fitness_function(weights, mean_returns, cov_matrix))\n",
        "    return np.array(fitness_scores)\n",
        "\n",
        "# 主程序\n",
        "population_size = 50\n",
        "num_generations = 100\n",
        "mutation_rate = 0.1\n",
        "\n",
        "# 初始化族群\n",
        "population = initialize_population(population_size, len(tickers))\n",
        "\n",
        "for generation in range(num_generations):\n",
        "    fitness_scores = evaluate_population(population, mean_returns, cov_matrix)\n",
        "    parents = select_parents(population, fitness_scores)\n",
        "    offspring = crossover(parents)\n",
        "    population = mutate(offspring, mutation_rate)\n",
        "\n",
        "# 找到最佳投資組合\n",
        "best_index = np.argmax(evaluate_population(population, mean_returns, cov_matrix))\n",
        "best_individual = population[best_index]\n",
        "best_weights = best_individual / np.sum(best_individual)\n",
        "\n",
        "# 計算最佳投資組合的回報和風險\n",
        "best_return = np.dot(best_weights, mean_returns)\n",
        "best_risk = np.sqrt(np.dot(best_weights.T, np.dot(cov_matrix, best_weights)))\n",
        "print(\"最佳投資組合:\", best_weights)\n",
        "print(\"預期回報率:\", best_return)\n",
        "print(\"預期風險:\", best_risk)"
      ],
      "metadata": {
        "colab": {
          "base_uri": "https://localhost:8080/"
        },
        "id": "ExkxhKoFYp9_",
        "outputId": "5db5bfc4-5c83-45a9-cfad-fc08cef834c5"
      },
      "execution_count": 46,
      "outputs": [
        {
          "output_type": "stream",
          "name": "stdout",
          "text": [
            "最佳投資組合: [0.         0.33333333 0.         0.33333333 0.33333333]\n",
            "預期回報率: 0.0008682076389807399\n",
            "預期風險: 0.022720601204825237\n"
          ]
        }
      ]
    }
  ]
}